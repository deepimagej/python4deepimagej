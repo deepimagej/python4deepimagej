{
  "nbformat": 4,
  "nbformat_minor": 0,
  "metadata": {
    "colab": {
      "name": "Untitled0.ipynb",
      "provenance": []
    },
    "kernelspec": {
      "name": "python3",
      "display_name": "Python 3"
    }
  },
  "cells": [
    {
      "cell_type": "markdown",
      "metadata": {
        "id": "FtkHVlkGZuz3",
        "colab_type": "text"
      },
      "source": [
        "# **This is a genertic python code to export StarDist trained models and use them with DeepImageJ plugin**\n",
        "\n",
        "https://deepimagej.github.io/deepimagej/index.html\n"
      ]
    },
    {
      "cell_type": "markdown",
      "metadata": {
        "id": "MklgDjVtbEKz",
        "colab_type": "text"
      },
      "source": [
        "If you are using Google Colab, mount your Google Drive. Otherwise, skip this step"
      ]
    },
    {
      "cell_type": "code",
      "metadata": {
        "id": "EzTJ9dClsagp",
        "colab_type": "code",
        "colab": {}
      },
      "source": [
        "from google.colab import drive\n",
        "drive.mount('/content/drive')"
      ],
      "execution_count": 0,
      "outputs": []
    },
    {
      "cell_type": "markdown",
      "metadata": {
        "id": "OPfCnAKAZ7XI",
        "colab_type": "text"
      },
      "source": [
        "\n",
        "Install the following packages: \n",
        "- A compatible version of Tensorflow <= 1.13.\n",
        "- stardist python package. Here we used StarDist 0.3.6"
      ]
    },
    {
      "cell_type": "code",
      "metadata": {
        "id": "y_3YIsZxs39M",
        "colab_type": "code",
        "colab": {}
      },
      "source": [
        "% pip install tensorflow==1.13.1\n",
        "% pip install stardist"
      ],
      "execution_count": 0,
      "outputs": []
    },
    {
      "cell_type": "markdown",
      "metadata": {
        "id": "wI2iQC_ttE_q",
        "colab_type": "text"
      },
      "source": [
        "# Load the StarDist trained model from your repository"
      ]
    },
    {
      "cell_type": "markdown",
      "metadata": {
        "id": "MklgDjVtbEKz",
        "colab_type": "text"
      },
      "source": [
        "Verify input and output sizes of your model. They can be different when the parameter grid is not (1,1). A different output size can lead to errors in DeepImageJ. Take it also into account if you want to perform shape measurements using the output image."
      ]
    },
    {
      "cell_type": "code",
      "metadata": {
        "id": "wQGQdksis3_o",
        "colab_type": "code",
        "colab": {}
      },
      "source": [
        "from stardist.models import StarDist2D\n",
        "# Without shape completion\n",
        "model_paper = StarDist2D(None, name='name_of_your_model', basedir='/content/drive/My Drive/the_path_to_your_model/folde_containing_the_model')\n",
        "# Indicate which weights you want to use\n",
        "model_paper.load_weights('weights_best.h5')"
      ],
      "execution_count": 0,
      "outputs": []
    },
    {
      "cell_type": "markdown",
      "metadata": {
        "id": "tEj1Oj9FubL0",
        "colab_type": "text"
      },
      "source": [
        "# Save as a TensorFlow SavedModel"
      ]
    },
    {
      "cell_type": "code",
      "metadata": {
        "id": "7B5veKEEuhq7",
        "colab_type": "code",
        "colab": {}
      },
      "source": [
        "import keras\n",
        "import keras.backend as K\n",
        "from keras.layers import concatenate\n",
        "import tensorflow as tf\n",
        "#Write the path where you would like to save the model. \n",
        "# The code will automatically create a new folder called \"new_folder\", where the\n",
        "# TensorFlow model will be saved\n",
        "OUTPUT_DIR = \"/content/drive/My Drive/the_path_where_you_want_to_save_your_model/new_folder\"\n",
        "builder = tf.saved_model.builder.SavedModelBuilder(OUTPUT_DIR)\n",
        "\n",
        "# StarDist has two different outputs. DeepImageJ can only read one of them, so \n",
        "# we concatenate them as different channels in order to used them in ImageJ.\n",
        "signature = tf.saved_model.signature_def_utils.predict_signature_def(\n",
        "            inputs  = {'input':  model_paper.keras_model.input[0]},\n",
        "            # concatenate the output of StarDist\n",
        "            outputs = {'output': concatenate([model_paper.keras_model.output[0],model_paper.keras_model.output[1]], axis = 3)})\n",
        "signature_def_map = { tf.saved_model.signature_constants.DEFAULT_SERVING_SIGNATURE_DEF_KEY: signature }\n",
        "\n",
        "builder.add_meta_graph_and_variables(K.get_session(), [tf.saved_model.tag_constants.SERVING],\n",
        "                                             signature_def_map=signature_def_map)\n",
        "builder.save()"
      ],
      "execution_count": 0,
      "outputs": []
    }
  ]
}
