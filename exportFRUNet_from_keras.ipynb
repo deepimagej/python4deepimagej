{
 "cells": [
  {
   "cell_type": "markdown",
   "metadata": {
    "colab_type": "text",
    "id": "rQfu09ZWP3RH"
   },
   "source": [
    "**Use this code to export FRU-Net model to proto buffer and use it in DeepImageJ**\n",
    "\n",
    "FRU-Net: https://cbia.fi.muni.cz/research/segmentation/fru-net\n",
    "\n",
    "DeepImageJ: https://deepimagej.github.io/deepimagej/index.html\n"
   ]
  },
  {
   "cell_type": "markdown",
   "metadata": {
    "colab_type": "text",
    "id": "Paui0JfkQ8Lt"
   },
   "source": [
    "Mount your Google Drive"
   ]
  },
  {
   "cell_type": "code",
   "execution_count": 10,
   "metadata": {
    "colab": {
     "base_uri": "https://localhost:8080/",
     "height": 54
    },
    "colab_type": "code",
    "executionInfo": {
     "elapsed": 840,
     "status": "ok",
     "timestamp": 1564585146016,
     "user": {
      "displayName": "ESTIBALIZ GOMEZ DE MARISCAL",
      "photoUrl": "",
      "userId": "04592796515262324641"
     },
     "user_tz": -120
    },
    "id": "8FGAyk73Q7nR",
    "outputId": "a41a584b-7aa7-4b49-df83-b10ee0c5e9de"
   },
   "outputs": [
    {
     "name": "stdout",
     "output_type": "stream",
     "text": [
      "Drive already mounted at /content/drive; to attempt to forcibly remount, call drive.mount(\"/content/drive\", force_remount=True).\n"
     ]
    }
   ],
   "source": [
    "from google.colab import drive\n",
    "drive.mount('/content/drive')"
   ]
  },
  {
   "cell_type": "markdown",
   "metadata": {
    "colab_type": "text",
    "id": "nfkCAMIkROF2"
   },
   "source": [
    "Install a compatible version of Keras and Tensorflow"
   ]
  },
  {
   "cell_type": "code",
   "execution_count": 11,
   "metadata": {
    "colab": {
     "base_uri": "https://localhost:8080/",
     "height": 530
    },
    "colab_type": "code",
    "executionInfo": {
     "elapsed": 5862,
     "status": "ok",
     "timestamp": 1564585153377,
     "user": {
      "displayName": "ESTIBALIZ GOMEZ DE MARISCAL",
      "photoUrl": "",
      "userId": "04592796515262324641"
     },
     "user_tz": -120
    },
    "id": "tM-GjE2TRMXO",
    "outputId": "9972d447-6ca5-4b63-aa20-74029b2c8f91"
   },
   "outputs": [
    {
     "name": "stdout",
     "output_type": "stream",
     "text": [
      "Cloning into 'python4deepimagej'...\n",
      "remote: Enumerating objects: 7, done.\u001b[K\n",
      "remote: Counting objects: 100% (7/7), done.\u001b[K\n",
      "remote: Compressing objects: 100% (7/7), done.\u001b[K\n",
      "remote: Total 7 (delta 2), reused 0 (delta 0), pack-reused 0\u001b[K\n",
      "Unpacking objects: 100% (7/7), done.\n",
      "Requirement already satisfied: keras==1.2.2 in /usr/local/lib/python3.6/dist-packages (1.2.2)\n",
      "Requirement already satisfied: tensorflow in /usr/local/lib/python3.6/dist-packages (1.13.1)\n",
      "Requirement already satisfied: theano in /usr/local/lib/python3.6/dist-packages (from keras==1.2.2) (1.0.4)\n",
      "Requirement already satisfied: pyyaml in /usr/local/lib/python3.6/dist-packages (from keras==1.2.2) (3.13)\n",
      "Requirement already satisfied: six in /usr/local/lib/python3.6/dist-packages (from keras==1.2.2) (1.12.0)\n",
      "Requirement already satisfied: keras-preprocessing>=1.0.5 in /usr/local/lib/python3.6/dist-packages (from tensorflow) (1.1.0)\n",
      "Requirement already satisfied: tensorboard<1.14.0,>=1.13.0 in /usr/local/lib/python3.6/dist-packages (from tensorflow) (1.13.1)\n",
      "Requirement already satisfied: termcolor>=1.1.0 in /usr/local/lib/python3.6/dist-packages (from tensorflow) (1.1.0)\n",
      "Requirement already satisfied: gast>=0.2.0 in /usr/local/lib/python3.6/dist-packages (from tensorflow) (0.2.2)\n",
      "Requirement already satisfied: astor>=0.6.0 in /usr/local/lib/python3.6/dist-packages (from tensorflow) (0.8.0)\n",
      "Requirement already satisfied: keras-applications>=1.0.6 in /usr/local/lib/python3.6/dist-packages (from tensorflow) (1.0.8)\n",
      "Requirement already satisfied: numpy>=1.13.3 in /usr/local/lib/python3.6/dist-packages (from tensorflow) (1.16.4)\n",
      "Requirement already satisfied: wheel>=0.26 in /usr/local/lib/python3.6/dist-packages (from tensorflow) (0.33.4)\n",
      "Requirement already satisfied: grpcio>=1.8.6 in /usr/local/lib/python3.6/dist-packages (from tensorflow) (1.15.0)\n",
      "Requirement already satisfied: tensorflow-estimator<1.14.0rc0,>=1.13.0 in /usr/local/lib/python3.6/dist-packages (from tensorflow) (1.13.0)\n",
      "Requirement already satisfied: absl-py>=0.1.6 in /usr/local/lib/python3.6/dist-packages (from tensorflow) (0.7.1)\n",
      "Requirement already satisfied: protobuf>=3.6.1 in /usr/local/lib/python3.6/dist-packages (from tensorflow) (3.7.1)\n",
      "Requirement already satisfied: scipy>=0.14 in /usr/local/lib/python3.6/dist-packages (from theano->keras==1.2.2) (1.3.0)\n",
      "Requirement already satisfied: werkzeug>=0.11.15 in /usr/local/lib/python3.6/dist-packages (from tensorboard<1.14.0,>=1.13.0->tensorflow) (0.15.5)\n",
      "Requirement already satisfied: markdown>=2.6.8 in /usr/local/lib/python3.6/dist-packages (from tensorboard<1.14.0,>=1.13.0->tensorflow) (3.1.1)\n",
      "Requirement already satisfied: h5py in /usr/local/lib/python3.6/dist-packages (from keras-applications>=1.0.6->tensorflow) (2.8.0)\n",
      "Requirement already satisfied: mock>=2.0.0 in /usr/local/lib/python3.6/dist-packages (from tensorflow-estimator<1.14.0rc0,>=1.13.0->tensorflow) (3.0.5)\n",
      "Requirement already satisfied: setuptools in /usr/local/lib/python3.6/dist-packages (from protobuf>=3.6.1->tensorflow) (41.0.1)\n"
     ]
    }
   ],
   "source": [
    "%pip install keras==1.2.2 tensorflow\n"
   ]
  },
  {
   "cell_type": "markdown",
   "metadata": {
    "colab_type": "text",
    "id": "DRHahE4lRXWs"
   },
   "source": [
    "Import dependencies"
   ]
  },
  {
   "cell_type": "code",
   "execution_count": 0,
   "metadata": {
    "colab": {},
    "colab_type": "code",
    "id": "6wgEqbg1RTLg"
   },
   "outputs": [],
   "source": [
    "import tensorflow as tf\n",
    "import keras\n",
    "from keras import backend as K"
   ]
  },
  {
   "cell_type": "code",
   "execution_count": 0,
   "metadata": {
    "colab": {},
    "colab_type": "code",
    "id": "jTQ8MQJjWdY7"
   },
   "outputs": [],
   "source": [
    "Download a trained FRU-Net model from FRU-Net: https://cbia.fi.muni.cz/research/segmentation/fru-net"
   ]
  },
  {
   "cell_type": "markdown",
   "metadata": {
    "colab_type": "text",
    "id": "a6jENPIkjmYG"
   },
   "source": [
    "Download the ZIP file containing all the information about FRU-Net from https://cbia.fi.muni.cz/research/segmentation/fru-net.\n",
    "\n",
    "Unzip the file and load one of the trained models (.h5)\n",
    "\n"
   ]
  },
  {
   "cell_type": "code",
   "execution_count": 0,
   "metadata": {
    "colab": {},
    "colab_type": "code",
    "id": "GSIQ8TUUWZBe"
   },
   "outputs": [],
   "source": [
    "#Fill the path to your keras network\n",
    "path2network='/content/drive/My Drive/Projectos/DEEP-IMAGEJ/examples_of_models/frunet/fully_residual_dropout_segmentation.h5'\n",
    "\n",
    "# Set the learning phase to convert properly the model\n",
    "# The learning phase flag is a bool tensor (0 = test, 1 = train) to be passed as\n",
    "# input to any Keras function that uses a different behavior at train time and \n",
    "# test time.\n",
    "\n",
    "K.set_learning_phase(1)\n",
    "\n",
    "# Load the model\n",
    "model = keras.models.load_model(path2network)"
   ]
  },
  {
   "cell_type": "markdown",
   "metadata": {
    "colab_type": "text",
    "id": "vstqSMe1XOri"
   },
   "source": [
    "Save your keras model as proto buffer"
   ]
  },
  {
   "cell_type": "code",
   "execution_count": 9,
   "metadata": {
    "colab": {
     "base_uri": "https://localhost:8080/",
     "height": 156
    },
    "colab_type": "code",
    "executionInfo": {
     "elapsed": 4303,
     "status": "ok",
     "timestamp": 1564584430801,
     "user": {
      "displayName": "ESTIBALIZ GOMEZ DE MARISCAL",
      "photoUrl": "",
      "userId": "04592796515262324641"
     },
     "user_tz": -120
    },
    "id": "GNmQlysgWvBf",
    "outputId": "61a34f37-107a-41a2-8728-e16a41dde315"
   },
   "outputs": [
    {
     "name": "stdout",
     "output_type": "stream",
     "text": [
      "WARNING:tensorflow:From /usr/local/lib/python3.6/dist-packages/tensorflow/python/saved_model/signature_def_utils_impl.py:205: build_tensor_info (from tensorflow.python.saved_model.utils_impl) is deprecated and will be removed in a future version.\n",
      "Instructions for updating:\n",
      "This function will only be available through the v1 compatibility library as tf.compat.v1.saved_model.utils.build_tensor_info or tf.compat.v1.saved_model.build_tensor_info.\n",
      "INFO:tensorflow:No assets to save.\n",
      "INFO:tensorflow:No assets to write.\n",
      "INFO:tensorflow:SavedModel written to: /content/drive/My Drive/Projectos/DEEP-IMAGEJ/examples_of_models/frunet/FRUNet/saved_model.pb\n"
     ]
    },
    {
     "data": {
      "text/plain": [
       "b'/content/drive/My Drive/Projectos/DEEP-IMAGEJ/examples_of_models/frunet/FRUNet/saved_model.pb'"
      ]
     },
     "execution_count": 9,
     "metadata": {
      "tags": []
     },
     "output_type": "execute_result"
    }
   ],
   "source": [
    "OUTPUT_DIR = \"/content/drive/My Drive/Projectos/DEEP-IMAGEJ/examples_of_models/frunet/FRUNet\"\n",
    "builder = tf.saved_model.builder.SavedModelBuilder(OUTPUT_DIR)\n",
    "\n",
    "signature = tf.saved_model.signature_def_utils.predict_signature_def(\n",
    "            inputs  = {'input':  model.input},\n",
    "            outputs = {'output': model.output})\n",
    "signature_def_map = { tf.saved_model.signature_constants.DEFAULT_SERVING_SIGNATURE_DEF_KEY: signature }\n",
    "\n",
    "builder.add_meta_graph_and_variables(K.get_session(), [tf.saved_model.tag_constants.SERVING],\n",
    "                                             signature_def_map=signature_def_map)\n",
    "builder.save()"
   ]
  }
 ],
 "metadata": {
  "colab": {
   "name": "exportFRUNet_from_keras.ipynb",
   "provenance": [],
   "version": "0.3.2"
  },
  "kernelspec": {
   "display_name": "Python 3",
   "language": "python",
   "name": "python3"
  },
  "language_info": {
   "codemirror_mode": {
    "name": "ipython",
    "version": 3
   },
   "file_extension": ".py",
   "mimetype": "text/x-python",
   "name": "python",
   "nbconvert_exporter": "python",
   "pygments_lexer": "ipython3",
   "version": "3.6.8"
  }
 },
 "nbformat": 4,
 "nbformat_minor": 1
}
