{
 "cells": [
  {
   "cell_type": "markdown",
   "metadata": {
    "colab_type": "text",
    "id": "rQfu09ZWP3RH"
   },
   "source": [
    "**This is a genertic python code to export Keras models and use them with DeepImageJ plugin**\n",
    "\n",
    "\n",
    "https://deepimagej.github.io/deepimagej/index.html\n"
   ]
  },
  {
   "cell_type": "markdown",
   "metadata": {
    "colab_type": "text",
    "id": "Paui0JfkQ8Lt"
   },
   "source": [
    "Mount your Google Drive"
   ]
  },
  {
   "cell_type": "code",
   "execution_count": 0,
   "metadata": {
    "colab": {},
    "colab_type": "code",
    "id": "8FGAyk73Q7nR"
   },
   "outputs": [],
   "source": [
    "from google.colab import drive\n",
    "drive.mount('/content/drive')"
   ]
  },
  {
   "cell_type": "markdown",
   "metadata": {
    "colab_type": "text",
    "id": "nfkCAMIkROF2"
   },
   "source": [
    "Install a compatible version of Tensorflow <= 1.13"
   ]
  },
  {
   "cell_type": "code",
   "execution_count": 0,
   "metadata": {
    "colab": {},
    "colab_type": "code",
    "id": "tM-GjE2TRMXO"
   },
   "outputs": [],
   "source": [
    "%pip install tensorflow==1.13.1\n",
    "%pip install keras==2.2.4\n"
   ]
  },
  {
   "cell_type": "markdown",
   "metadata": {
    "colab_type": "text",
    "id": "DRHahE4lRXWs"
   },
   "source": [
    "Import dependencies"
   ]
  },
  {
   "cell_type": "code",
   "execution_count": 0,
   "metadata": {
    "colab": {},
    "colab_type": "code",
    "id": "6wgEqbg1RTLg"
   },
   "outputs": [],
   "source": [
    "import tensorflow as tf\n",
    "import keras\n",
    "from keras import backend as K"
   ]
  },
  {
   "cell_type": "code",
   "execution_count": 0,
   "metadata": {
    "colab": {},
    "colab_type": "code",
    "id": "jTQ8MQJjWdY7"
   },
   "outputs": [],
   "source": [
    "Load a keras network"
   ]
  },
  {
   "cell_type": "code",
   "execution_count": 0,
   "metadata": {
    "colab": {},
    "colab_type": "code",
    "id": "GSIQ8TUUWZBe"
   },
   "outputs": [],
   "source": [
    "#Fill the path to your keras network\n",
    "path2network='/path2yournetwork/your_network.hdf5'\n",
    "model = keras.models.load_model(path2network)"
   ]
  },
  {
   "cell_type": "markdown",
   "metadata": {
    "colab_type": "text",
    "id": "vstqSMe1XOri"
   },
   "source": [
    "Save your keras model as proto buffer"
   ]
  },
  {
   "cell_type": "code",
   "execution_count": 0,
   "metadata": {
    "colab": {},
    "colab_type": "code",
    "id": "GNmQlysgWvBf"
   },
   "outputs": [],
   "source": [
    "#If the model has only one input it can be converted\n",
    "OUTPUT_DIR = \"/your/output/directory/new_folder_name\"\n",
    "builder = tf.saved_model.builder.SavedModelBuilder(OUTPUT_DIR)\n",
    "\n",
    "signature = tf.saved_model.signature_def_utils.predict_signature_def(\n",
    "            inputs  = {'input':  model.input},\n",
    "            outputs = {'output': model.output})\n",
    "signature_def_map = { tf.saved_model.signature_constants.DEFAULT_SERVING_SIGNATURE_DEF_KEY: signature }\n",
    "\n",
    "builder.add_meta_graph_and_variables(K.get_session(), [tf.saved_model.tag_constants.SERVING],\n",
    "                                             signature_def_map=signature_def_map)\n",
    "builder.save()"
   ]
  }
 ],
 "metadata": {
  "colab": {
   "name": "keras_for_deepimagej.ipynb",
   "provenance": [],
   "version": "0.3.2"
  },
  "kernelspec": {
   "display_name": "Python 3",
   "language": "python",
   "name": "python3"
  },
  "language_info": {
   "codemirror_mode": {
    "name": "ipython",
    "version": 3
   },
   "file_extension": ".py",
   "mimetype": "text/x-python",
   "name": "python",
   "nbconvert_exporter": "python",
   "pygments_lexer": "ipython3",
   "version": "3.6.8"
  }
 },
 "nbformat": 4,
 "nbformat_minor": 1
}
